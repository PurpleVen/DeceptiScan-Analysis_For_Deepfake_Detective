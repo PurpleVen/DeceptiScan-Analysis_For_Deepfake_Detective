{
 "cells": [
  {
   "cell_type": "code",
   "execution_count": null,
   "id": "89abb338",
   "metadata": {
    "papermill": {
     "duration": 0.007444,
     "end_time": "2023-10-30T17:48:49.975474",
     "exception": false,
     "start_time": "2023-10-30T17:48:49.968030",
     "status": "completed"
    },
    "tags": []
   },
   "outputs": [],
   "source": []
  },
  {
   "cell_type": "code",
   "execution_count": 1,
   "id": "93b0478e",
   "metadata": {
    "execution": {
     "iopub.execute_input": "2023-10-30T17:48:49.990882Z",
     "iopub.status.busy": "2023-10-30T17:48:49.990587Z",
     "iopub.status.idle": "2023-10-30T17:48:55.773943Z",
     "shell.execute_reply": "2023-10-30T17:48:55.772964Z"
    },
    "papermill": {
     "duration": 5.794475,
     "end_time": "2023-10-30T17:48:55.776997",
     "exception": false,
     "start_time": "2023-10-30T17:48:49.982522",
     "status": "completed"
    },
    "tags": []
   },
   "outputs": [
    {
     "name": "stderr",
     "output_type": "stream",
     "text": [
      "/opt/conda/lib/python3.10/site-packages/scipy/__init__.py:146: UserWarning: A NumPy version >=1.16.5 and <1.23.0 is required for this version of SciPy (detected version 1.23.5\n",
      "  warnings.warn(f\"A NumPy version >={np_minversion} and <{np_maxversion}\"\n"
     ]
    }
   ],
   "source": [
    "import pandas as pd\n",
    "import os\n",
    "import cv2\n",
    "import argparse\n",
    "from typing import Tuple\n",
    "import albumentations as A\n",
    "import pandas as pd\n",
    "import torch\n",
    "import random\n",
    "import time\n",
    "import numpy as np\n",
    "import matplotlib.pyplot as plt\n",
    "from tqdm import tqdm\n",
    "from torch import nn, optim\n",
    "from torchvision import datasets, transforms, models\n",
    "from albumentations.pytorch import ToTensorV2\n",
    "from torch.utils.data import Dataset, DataLoader\n",
    "from torch.optim import Adam\n",
    "from torch.optim.lr_scheduler import CosineAnnealingLR, StepLR\n",
    "from torch.utils.data import DataLoader\n",
    "from torch.utils.data.sampler import RandomSampler, SequentialSampler\n",
    "from torch.nn import functional as F\n",
    "from PIL import Image\n"
   ]
  },
  {
   "cell_type": "code",
   "execution_count": 2,
   "id": "6c6c7a44",
   "metadata": {
    "execution": {
     "iopub.execute_input": "2023-10-30T17:48:55.796460Z",
     "iopub.status.busy": "2023-10-30T17:48:55.795973Z",
     "iopub.status.idle": "2023-10-30T17:48:55.807100Z",
     "shell.execute_reply": "2023-10-30T17:48:55.805902Z"
    },
    "papermill": {
     "duration": 0.022439,
     "end_time": "2023-10-30T17:48:55.809192",
     "exception": false,
     "start_time": "2023-10-30T17:48:55.786753",
     "status": "completed"
    },
    "tags": []
   },
   "outputs": [],
   "source": [
    "def plot_samples(df, data_root_path, category, num_imgs=20, num_cols=5):\n",
    "    \n",
    "    paths = df[df.category == category].file_path.sample(num_imgs)\n",
    "    \n",
    "    num_rows = num_imgs // num_cols \n",
    "    if num_imgs % num_cols != 0:\n",
    "        num_rows += 1\n",
    "    \n",
    "    fig = plt.figure(figsize=(num_cols * 4, num_rows * 4))\n",
    "    for idx, path in enumerate(paths):\n",
    "\n",
    "        ax = fig.add_subplot(num_rows,num_cols,idx+1)\n",
    "        \n",
    "        im = cv2.imread(os.path.join(data_root_path, path))\n",
    "        im_resized = cv2.resize(im, (224, 224), interpolation=cv2.INTER_LINEAR)\n",
    "\n",
    "        plt.imshow(cv2.cvtColor(im_resized, cv2.COLOR_BGR2RGB))\n",
    "        plt.axis('off')\n",
    "        plt.tight_layout()\n",
    "        \n",
    "    plt.show()\n",
    "# for category in sorted(train_df.category.unique()):\n",
    "#     print(category)\n",
    "#     plot_samples(train_df, TRAIN_PATH, category, 5, 5)"
   ]
  },
  {
   "cell_type": "code",
   "execution_count": 3,
   "id": "33f607b2",
   "metadata": {
    "execution": {
     "iopub.execute_input": "2023-10-30T17:48:55.824601Z",
     "iopub.status.busy": "2023-10-30T17:48:55.824356Z",
     "iopub.status.idle": "2023-10-30T17:48:55.830312Z",
     "shell.execute_reply": "2023-10-30T17:48:55.829546Z"
    },
    "papermill": {
     "duration": 0.01583,
     "end_time": "2023-10-30T17:48:55.832249",
     "exception": false,
     "start_time": "2023-10-30T17:48:55.816419",
     "status": "completed"
    },
    "tags": []
   },
   "outputs": [],
   "source": [
    "# Define data augmentation transforms\n",
    "train_transforms = A.Compose([\n",
    "    A.Resize(224, 224),  # Resize images to a specific size\n",
    "    A.HorizontalFlip(p=0.5),  # Randomly flip the image horizontally with a 50% probability\n",
    "    A.RandomRotate90(p=0.5),  # Randomly rotate the image by 90 degrees with a 50% probability\n",
    "    A.RandomBrightnessContrast(p=0.2),  # Randomly adjust brightness and contrast with a 20% probability\n",
    "    A.Normalize(),  # Normalize pixel values\n",
    "    ToTensorV2(),  # Convert the image to a PyTorch tensor\n",
    "])\n",
    "\n",
    "test_transforms = A.Compose([\n",
    "    A.Resize(224, 224),\n",
    "    A.Normalize(),\n",
    "    ToTensorV2(),\n",
    "])"
   ]
  },
  {
   "cell_type": "code",
   "execution_count": 4,
   "id": "0dfff3cc",
   "metadata": {
    "execution": {
     "iopub.execute_input": "2023-10-30T17:48:55.847347Z",
     "iopub.status.busy": "2023-10-30T17:48:55.847109Z",
     "iopub.status.idle": "2023-10-30T17:48:55.854193Z",
     "shell.execute_reply": "2023-10-30T17:48:55.853425Z"
    },
    "papermill": {
     "duration": 0.016696,
     "end_time": "2023-10-30T17:48:55.855945",
     "exception": false,
     "start_time": "2023-10-30T17:48:55.839249",
     "status": "completed"
    },
    "tags": []
   },
   "outputs": [],
   "source": [
    "class ResNetBase(nn.Module):\n",
    "    def __init__(self, backbone='resnext50_32x4d_ssl'):\n",
    "        super(ResNetBase, self).__init__()\n",
    "        if backbone.endswith('l'):\n",
    "            self.backbone = torch.hub.load(\n",
    "                'facebookresearch/semi-supervised-ImageNet1K-models',\n",
    "                backbone,\n",
    "            )\n",
    "        else:\n",
    "            self.backbone = getattr(models, backbone)(pretrained=True)\n",
    "        self.out_features = self.backbone.fc.in_features\n",
    "\n",
    "    def forward(self, x):\n",
    "        base = self.backbone\n",
    "        x = base.conv1(x)\n",
    "        x = base.bn1(x)\n",
    "        x = base.relu(x)\n",
    "        x = base.maxpool(x)\n",
    "\n",
    "        x = base.layer1(x)\n",
    "        x = base.layer2(x)\n",
    "        x = base.layer3(x)\n",
    "        x = base.layer4(x)\n",
    "        return x"
   ]
  },
  {
   "cell_type": "code",
   "execution_count": 5,
   "id": "e11163cf",
   "metadata": {
    "execution": {
     "iopub.execute_input": "2023-10-30T17:48:55.871441Z",
     "iopub.status.busy": "2023-10-30T17:48:55.871138Z",
     "iopub.status.idle": "2023-10-30T17:48:55.877813Z",
     "shell.execute_reply": "2023-10-30T17:48:55.876978Z"
    },
    "papermill": {
     "duration": 0.016748,
     "end_time": "2023-10-30T17:48:55.879836",
     "exception": false,
     "start_time": "2023-10-30T17:48:55.863088",
     "status": "completed"
    },
    "tags": []
   },
   "outputs": [],
   "source": [
    "class EarlyStopping:\n",
    "    def __init__(self, patience=10, verbose=False):\n",
    "        self.patience = patience\n",
    "        self.verbose = verbose\n",
    "        self.counter = 0\n",
    "        self.best_loss = None\n",
    "        self.early_stop = False\n",
    "\n",
    "    def __call__(self, val_loss):\n",
    "        if self.best_loss is None:\n",
    "            self.best_loss = val_loss\n",
    "        elif val_loss > self.best_loss:\n",
    "            self.counter += 1\n",
    "            if self.verbose:\n",
    "                print(f\"EarlyStopping counter: {self.counter} out of {self.patience}\")\n",
    "            if self.counter >= self.patience:\n",
    "                self.early_stop = True\n",
    "        else:\n",
    "            self.best_loss = val_loss\n",
    "            self.counter = 0"
   ]
  },
  {
   "cell_type": "code",
   "execution_count": 6,
   "id": "f6a2a69e",
   "metadata": {
    "execution": {
     "iopub.execute_input": "2023-10-30T17:48:55.895438Z",
     "iopub.status.busy": "2023-10-30T17:48:55.894784Z",
     "iopub.status.idle": "2023-10-30T17:48:55.898788Z",
     "shell.execute_reply": "2023-10-30T17:48:55.898026Z"
    },
    "papermill": {
     "duration": 0.013786,
     "end_time": "2023-10-30T17:48:55.900624",
     "exception": false,
     "start_time": "2023-10-30T17:48:55.886838",
     "status": "completed"
    },
    "tags": []
   },
   "outputs": [],
   "source": [
    "early_stopping = EarlyStopping(patience=10, verbose=True)"
   ]
  },
  {
   "cell_type": "code",
   "execution_count": 7,
   "id": "061f2918",
   "metadata": {
    "execution": {
     "iopub.execute_input": "2023-10-30T17:48:55.915543Z",
     "iopub.status.busy": "2023-10-30T17:48:55.915275Z",
     "iopub.status.idle": "2023-10-30T17:48:55.921535Z",
     "shell.execute_reply": "2023-10-30T17:48:55.920712Z"
    },
    "papermill": {
     "duration": 0.015915,
     "end_time": "2023-10-30T17:48:55.923507",
     "exception": false,
     "start_time": "2023-10-30T17:48:55.907592",
     "status": "completed"
    },
    "tags": []
   },
   "outputs": [],
   "source": [
    "class ResNetHead(nn.Module):\n",
    "    def __init__(self, in_features: int, n_classes: int, use_neck: bool):\n",
    "        super().__init__()\n",
    "\n",
    "        self.pooling = nn.AdaptiveAvgPool2d((1, 1))\n",
    "        self.fc1 = nn.Linear(in_features, n_classes)\n",
    "        self.use_neck = use_neck\n",
    "\n",
    "    def forward(self, x):\n",
    "        if not self.use_neck:\n",
    "            x = self.pooling(x)\n",
    "            x = torch.flatten(x, start_dim=1)\n",
    "        x = self.apply_fc_out(x)\n",
    "        return x\n",
    "\n",
    "    def apply_fc_out(self, x):\n",
    "        return self.fc1(x)\n"
   ]
  },
  {
   "cell_type": "code",
   "execution_count": 8,
   "id": "fb5b608c",
   "metadata": {
    "execution": {
     "iopub.execute_input": "2023-10-30T17:48:55.938511Z",
     "iopub.status.busy": "2023-10-30T17:48:55.938264Z",
     "iopub.status.idle": "2023-10-30T17:48:55.945160Z",
     "shell.execute_reply": "2023-10-30T17:48:55.944314Z"
    },
    "papermill": {
     "duration": 0.016758,
     "end_time": "2023-10-30T17:48:55.947159",
     "exception": false,
     "start_time": "2023-10-30T17:48:55.930401",
     "status": "completed"
    },
    "tags": []
   },
   "outputs": [],
   "source": [
    "class Neck(nn.Module):\n",
    "    def __init__(self, in_features: int, hidden_dim):\n",
    "        super().__init__()\n",
    "\n",
    "        self.pooling = nn.AdaptiveAvgPool2d((1, 1))\n",
    "        self.bn1 = nn.BatchNorm1d(in_features)\n",
    "        self.fc1 = nn.Linear(in_features, hidden_dim)\n",
    "        self.bn2 = nn.BatchNorm1d(hidden_dim)\n",
    "        self.fc2 = nn.Linear(hidden_dim, hidden_dim)\n",
    "        self.bn3 = nn.BatchNorm1d(hidden_dim)\n",
    "\n",
    "    def forward(self, x):\n",
    "\n",
    "        x = self.pooling(x)\n",
    "        x = torch.flatten(x, start_dim=1)\n",
    "        x = self.bn1(x)\n",
    "        x = F.relu(self.fc1(x))\n",
    "        x = self.bn2(x)\n",
    "        x = self.fc2(x)\n",
    "        x = self.bn3(x)\n",
    "\n",
    "        return x"
   ]
  },
  {
   "cell_type": "code",
   "execution_count": 9,
   "id": "93fd9f59",
   "metadata": {
    "execution": {
     "iopub.execute_input": "2023-10-30T17:48:55.962281Z",
     "iopub.status.busy": "2023-10-30T17:48:55.961846Z",
     "iopub.status.idle": "2023-10-30T17:48:56.024518Z",
     "shell.execute_reply": "2023-10-30T17:48:56.023577Z"
    },
    "papermill": {
     "duration": 0.072507,
     "end_time": "2023-10-30T17:48:56.026603",
     "exception": false,
     "start_time": "2023-10-30T17:48:55.954096",
     "status": "completed"
    },
    "tags": []
   },
   "outputs": [],
   "source": [
    "#build resnext model\n",
    "\n",
    "def build_model(backbone: str, n_classes: int, **kwargs) -> nn.Module:\n",
    "    return Model(backbone=backbone, n_classes=n_classes, **kwargs)\n",
    "\n",
    "\n",
    "class Model(nn.Module):\n",
    "    def __init__(self, *, backbone: str, n_classes: int, use_neck: bool,):\n",
    "        super().__init__()\n",
    "\n",
    "        self.backbone = ResNetBase(backbone)\n",
    "        self.in_features = self.backbone.out_features\n",
    "        self.use_neck = use_neck\n",
    "        if self.use_neck:\n",
    "            self.hidden_dim = 1024\n",
    "            self.neck = Neck(self.in_features, 1024)\n",
    "            self.in_features = self.hidden_dim\n",
    "        self.head = ResNetHead(self.in_features, n_classes, self.use_neck)\n",
    "\n",
    "    def forward(self, x):\n",
    "        x = self.backbone(x)\n",
    "        if self.use_neck:\n",
    "            x = self.neck(x)\n",
    "        x = self.head(x)\n",
    "        return x\n",
    "device = torch.device('cuda' if torch.cuda.is_available() else 'cpu')"
   ]
  },
  {
   "cell_type": "markdown",
   "id": "7c8c31b2",
   "metadata": {
    "papermill": {
     "duration": 0.006784,
     "end_time": "2023-10-30T17:48:56.040615",
     "exception": false,
     "start_time": "2023-10-30T17:48:56.033831",
     "status": "completed"
    },
    "tags": []
   },
   "source": [
    "***ResNext folder Image Testing***"
   ]
  },
  {
   "cell_type": "code",
   "execution_count": 10,
   "id": "0ffefaa6",
   "metadata": {
    "execution": {
     "iopub.execute_input": "2023-10-30T17:48:56.055797Z",
     "iopub.status.busy": "2023-10-30T17:48:56.055503Z",
     "iopub.status.idle": "2023-10-30T17:49:21.654449Z",
     "shell.execute_reply": "2023-10-30T17:49:21.653468Z"
    },
    "papermill": {
     "duration": 25.609074,
     "end_time": "2023-10-30T17:49:21.656542",
     "exception": false,
     "start_time": "2023-10-30T17:48:56.047468",
     "status": "completed"
    },
    "tags": []
   },
   "outputs": [
    {
     "name": "stderr",
     "output_type": "stream",
     "text": [
      "Downloading: \"https://github.com/facebookresearch/semi-supervised-ImageNet1K-models/zipball/master\" to /root/.cache/torch/hub/master.zip\n",
      "Downloading: \"https://dl.fbaipublicfiles.com/semiweaksupervision/model_files/semi_supervised_resnext50_32x4-ddb3e555.pth\" to /root/.cache/torch/hub/checkpoints/semi_supervised_resnext50_32x4-ddb3e555.pth\n",
      "100%|██████████| 95.8M/95.8M [00:01<00:00, 67.1MB/s]\n"
     ]
    },
    {
     "data": {
      "image/png": "[encoded data removed]",
      "text/plain": [
       "<Figure size 640x480 with 1 Axes>"
      ]
     },
     "metadata": {},
     "output_type": "display_data"
    }
   ],
   "source": [
    "import torch\n",
    "from torchvision import transforms\n",
    "from PIL import Image\n",
    "import os\n",
    "import matplotlib.pyplot as plt\n",
    "\n",
    "# Define the path to the saved checkpoint\n",
    "checkpoint_path = \"/kaggle/input/datrgfff/model_8.pth\"  # Update with the correct path\n",
    "\n",
    "# Load the pre-trained model architecture (same as the one used for training)\n",
    "model = build_model(\n",
    "    backbone='resnext50_32x4d_ssl',\n",
    "    n_classes=2,  # Update with the correct number of classes\n",
    "    use_neck=0,\n",
    ")\n",
    "\n",
    "# Load the checkpoint\n",
    "checkpoint = torch.load(checkpoint_path)\n",
    "model.load_state_dict(checkpoint['model_state_dict'])\n",
    "model.eval()  # Set the model to evaluation mode\n",
    "\n",
    "# Define the image transformation\n",
    "transform = transforms.Compose([\n",
    "    transforms.Resize((224, 224)),\n",
    "    transforms.ToTensor(),\n",
    "    transforms.Normalize(mean=[0.485, 0.456, 0.406], std=[0.229, 0.224, 0.225]),  # Update with the correct values\n",
    "])\n",
    "\n",
    "# Define the folder containing images\n",
    "image_folder = \"/kaggle/input/real-dataset-for-deepfake-test/deepfake real dataset/male\"\n",
    "\n",
    "# Create a list to store the results\n",
    "results = []\n",
    "\n",
    "# Iterate through the images in the folder\n",
    "for filename in os.listdir(image_folder):\n",
    "    if filename.endswith(\".jpg\") or filename.endswith(\".png\"):  # You can specify the file extensions you want to process\n",
    "        image_path = os.path.join(image_folder, filename)\n",
    "        image = Image.open(image_path)\n",
    "        image = transform(image)\n",
    "        image = image.unsqueeze(0)  # Add a batch dimension\n",
    "\n",
    "        # Make predictions\n",
    "        with torch.no_grad():\n",
    "            output = model(image)\n",
    "\n",
    "        # Post-process the predictions\n",
    "        predicted_class = output.argmax(dim=1).item()  # Get the class with the highest probability\n",
    "\n",
    "        # Define the mapping\n",
    "        class_mapping = {\n",
    "            0: \"fake\",\n",
    "            1: \"real\"\n",
    "        }\n",
    "\n",
    "        # Get the corresponding label\n",
    "        predicted_label = class_mapping.get(predicted_class, \"unknown\")\n",
    "\n",
    "        # Store the result for this image\n",
    "        results.append({\"image_path\": image_path, \"predicted_label\": predicted_label})\n",
    "\n",
    "# Count the number of fake and real images\n",
    "fake_count = sum(1 for result in results if result[\"predicted_label\"] == \"fake\")\n",
    "real_count = sum(1 for result in results if result[\"predicted_label\"] == \"real\")\n",
    "\n",
    "# Create a bar chart\n",
    "labels = [\"Fake\", \"Real\"]\n",
    "counts = [fake_count, real_count]\n",
    "\n",
    "plt.bar(labels, counts)\n",
    "plt.xlabel(\"Results\")\n",
    "plt.ylabel(\"Number of Images\")\n",
    "plt.title(\"Real Male ResNext Image Classification Results\")\n",
    "plt.show()\n"
   ]
  },
  {
   "cell_type": "markdown",
   "id": "9d5111a4",
   "metadata": {
    "papermill": {
     "duration": 0.008546,
     "end_time": "2023-10-30T17:49:21.674189",
     "exception": false,
     "start_time": "2023-10-30T17:49:21.665643",
     "status": "completed"
    },
    "tags": []
   },
   "source": [
    "***ResNext Single Image Testing***"
   ]
  },
  {
   "cell_type": "code",
   "execution_count": 11,
   "id": "21c29ff8",
   "metadata": {
    "execution": {
     "iopub.execute_input": "2023-10-30T17:49:21.692825Z",
     "iopub.status.busy": "2023-10-30T17:49:21.692503Z",
     "iopub.status.idle": "2023-10-30T17:49:23.143741Z",
     "shell.execute_reply": "2023-10-30T17:49:23.142795Z"
    },
    "papermill": {
     "duration": 1.463191,
     "end_time": "2023-10-30T17:49:23.145975",
     "exception": false,
     "start_time": "2023-10-30T17:49:21.682784",
     "status": "completed"
    },
    "tags": []
   },
   "outputs": [
    {
     "name": "stderr",
     "output_type": "stream",
     "text": [
      "Using cache found in /root/.cache/torch/hub/facebookresearch_semi-supervised-ImageNet1K-models_master\n"
     ]
    },
    {
     "name": "stdout",
     "output_type": "stream",
     "text": [
      "Predicted Label: real\n"
     ]
    }
   ],
   "source": [
    "import torch\n",
    "from torchvision import transforms\n",
    "from PIL import Image\n",
    "import matplotlib.pyplot as plt\n",
    "\n",
    "# Define the path to the saved checkpoint\n",
    "checkpoint_path = \"/kaggle/input/datrgfff/model_8.pth\"\n",
    "\n",
    "# Load the pre-trained model architecture (make sure to define build_model function)\n",
    "model = build_model(\n",
    "    backbone='resnext50_32x4d_ssl',\n",
    "    n_classes=2,  # Update with the correct number of classes\n",
    "    use_neck=0,\n",
    ")\n",
    "\n",
    "# Load the checkpoint\n",
    "checkpoint = torch.load(checkpoint_path)\n",
    "model.load_state_dict(checkpoint['model_state_dict'])\n",
    "model.eval()  # Set the model to evaluation mode\n",
    "\n",
    "# Define the image transformation\n",
    "transform = transforms.Compose([\n",
    "    transforms.Resize((224, 224)),\n",
    "    transforms.ToTensor(),\n",
    "    transforms.Normalize(mean=[0.485, 0.456, 0.406], std=[0.229, 0.224, 0.225]),  # Update with the correct values\n",
    "])\n",
    "\n",
    "# Define the path to the single image you want to test\n",
    "image_path = \"/kaggle/input/thispersondoesnotexist/thispersondoesnotexist/person_10.png\"\n",
    "\n",
    "# Load the single image\n",
    "image = Image.open(image_path)\n",
    "image = transform(image)\n",
    "image = image.unsqueeze(0)  # Add a batch dimension\n",
    "\n",
    "# Make predictions\n",
    "with torch.no_grad():\n",
    "    output = model(image)\n",
    "\n",
    "# Post-process the predictions\n",
    "predicted_class = output.argmax(dim=1).item()  # Get the class with the highest probability\n",
    "\n",
    "# Define the mapping\n",
    "class_mapping = {\n",
    "    0: \"fake\",\n",
    "    1: \"real\"\n",
    "}\n",
    "\n",
    "# Get the corresponding label\n",
    "predicted_label = class_mapping.get(predicted_class, \"unknown\")\n",
    "\n",
    "# Print the predicted label for the single image\n",
    "print(\"Predicted Label:\", predicted_label)\n"
   ]
  },
  {
   "cell_type": "markdown",
   "id": "b596ead0",
   "metadata": {
    "papermill": {
     "duration": 0.009157,
     "end_time": "2023-10-30T17:49:23.164965",
     "exception": false,
     "start_time": "2023-10-30T17:49:23.155808",
     "status": "completed"
    },
    "tags": []
   },
   "source": [
    "***VGG FOLDER IMAGE TEST***"
   ]
  },
  {
   "cell_type": "code",
   "execution_count": 12,
   "id": "0dff9ae7",
   "metadata": {
    "execution": {
     "iopub.execute_input": "2023-10-30T17:49:23.185061Z",
     "iopub.status.busy": "2023-10-30T17:49:23.184710Z",
     "iopub.status.idle": "2023-10-30T17:49:49.857442Z",
     "shell.execute_reply": "2023-10-30T17:49:49.856517Z"
    },
    "papermill": {
     "duration": 26.685405,
     "end_time": "2023-10-30T17:49:49.859676",
     "exception": false,
     "start_time": "2023-10-30T17:49:23.174271",
     "status": "completed"
    },
    "tags": []
   },
   "outputs": [
    {
     "name": "stdout",
     "output_type": "stream",
     "text": [
      "1/1 [==============================] - 5s 5s/step\n",
      "1/1 [==============================] - 0s 23ms/step\n",
      "1/1 [==============================] - 0s 22ms/step\n",
      "1/1 [==============================] - 0s 24ms/step\n",
      "1/1 [==============================] - 0s 27ms/step\n",
      "1/1 [==============================] - 0s 22ms/step\n",
      "1/1 [==============================] - 0s 24ms/step\n",
      "1/1 [==============================] - 0s 24ms/step\n",
      "1/1 [==============================] - 0s 23ms/step\n",
      "1/1 [==============================] - 0s 23ms/step\n",
      "1/1 [==============================] - 0s 23ms/step\n",
      "1/1 [==============================] - 0s 23ms/step\n",
      "1/1 [==============================] - 0s 23ms/step\n",
      "1/1 [==============================] - 0s 24ms/step\n",
      "1/1 [==============================] - 0s 23ms/step\n",
      "1/1 [==============================] - 0s 24ms/step\n",
      "1/1 [==============================] - 0s 25ms/step\n",
      "1/1 [==============================] - 0s 24ms/step\n",
      "1/1 [==============================] - 0s 23ms/step\n",
      "1/1 [==============================] - 0s 22ms/step\n",
      "1/1 [==============================] - 0s 23ms/step\n",
      "1/1 [==============================] - 0s 23ms/step\n",
      "1/1 [==============================] - 0s 23ms/step\n",
      "1/1 [==============================] - 0s 24ms/step\n",
      "1/1 [==============================] - 0s 22ms/step\n",
      "1/1 [==============================] - 0s 32ms/step\n",
      "1/1 [==============================] - 0s 23ms/step\n",
      "1/1 [==============================] - 0s 23ms/step\n",
      "1/1 [==============================] - 0s 23ms/step\n",
      "1/1 [==============================] - 0s 21ms/step\n",
      "1/1 [==============================] - 0s 23ms/step\n",
      "1/1 [==============================] - 0s 24ms/step\n",
      "1/1 [==============================] - 0s 23ms/step\n",
      "1/1 [==============================] - 0s 21ms/step\n",
      "1/1 [==============================] - 0s 22ms/step\n",
      "1/1 [==============================] - 0s 22ms/step\n",
      "1/1 [==============================] - 0s 22ms/step\n",
      "1/1 [==============================] - 0s 23ms/step\n",
      "1/1 [==============================] - 0s 22ms/step\n",
      "1/1 [==============================] - 0s 23ms/step\n",
      "1/1 [==============================] - 0s 23ms/step\n",
      "1/1 [==============================] - 0s 22ms/step\n",
      "1/1 [==============================] - 0s 21ms/step\n",
      "1/1 [==============================] - 0s 24ms/step\n",
      "1/1 [==============================] - 0s 24ms/step\n",
      "1/1 [==============================] - 0s 22ms/step\n",
      "1/1 [==============================] - 0s 22ms/step\n",
      "1/1 [==============================] - 0s 23ms/step\n",
      "1/1 [==============================] - 0s 22ms/step\n",
      "1/1 [==============================] - 0s 24ms/step\n",
      "1/1 [==============================] - 0s 22ms/step\n",
      "1/1 [==============================] - 0s 24ms/step\n",
      "1/1 [==============================] - 0s 21ms/step\n",
      "1/1 [==============================] - 0s 22ms/step\n",
      "1/1 [==============================] - 0s 22ms/step\n",
      "1/1 [==============================] - 0s 24ms/step\n",
      "1/1 [==============================] - 0s 22ms/step\n",
      "1/1 [==============================] - 0s 22ms/step\n",
      "1/1 [==============================] - 0s 22ms/step\n",
      "1/1 [==============================] - 0s 23ms/step\n",
      "1/1 [==============================] - 0s 30ms/step\n",
      "1/1 [==============================] - 0s 22ms/step\n",
      "1/1 [==============================] - 0s 25ms/step\n",
      "1/1 [==============================] - 0s 22ms/step\n",
      "1/1 [==============================] - 0s 22ms/step\n",
      "1/1 [==============================] - 0s 23ms/step\n",
      "1/1 [==============================] - 0s 23ms/step\n",
      "1/1 [==============================] - 0s 23ms/step\n",
      "1/1 [==============================] - 0s 22ms/step\n",
      "1/1 [==============================] - 0s 21ms/step\n",
      "1/1 [==============================] - 0s 22ms/step\n",
      "1/1 [==============================] - 0s 23ms/step\n",
      "1/1 [==============================] - 0s 22ms/step\n",
      "1/1 [==============================] - 0s 22ms/step\n",
      "1/1 [==============================] - 0s 23ms/step\n",
      "1/1 [==============================] - 0s 22ms/step\n",
      "1/1 [==============================] - 0s 23ms/step\n",
      "1/1 [==============================] - 0s 22ms/step\n",
      "1/1 [==============================] - 0s 22ms/step\n",
      "1/1 [==============================] - 0s 22ms/step\n",
      "1/1 [==============================] - 0s 23ms/step\n",
      "1/1 [==============================] - 0s 23ms/step\n",
      "1/1 [==============================] - 0s 23ms/step\n",
      "1/1 [==============================] - 0s 24ms/step\n",
      "1/1 [==============================] - 0s 23ms/step\n",
      "1/1 [==============================] - 0s 25ms/step\n",
      "1/1 [==============================] - 0s 23ms/step\n",
      "1/1 [==============================] - 0s 22ms/step\n",
      "1/1 [==============================] - 0s 22ms/step\n",
      "1/1 [==============================] - 0s 22ms/step\n",
      "1/1 [==============================] - 0s 23ms/step\n",
      "1/1 [==============================] - 0s 23ms/step\n",
      "1/1 [==============================] - 0s 23ms/step\n",
      "1/1 [==============================] - 0s 23ms/step\n",
      "1/1 [==============================] - 0s 23ms/step\n",
      "1/1 [==============================] - 0s 23ms/step\n",
      "1/1 [==============================] - 0s 22ms/step\n",
      "1/1 [==============================] - 0s 22ms/step\n",
      "1/1 [==============================] - 0s 24ms/step\n",
      "1/1 [==============================] - 0s 24ms/step\n"
     ]
    },
    {
     "data": {
      "image/png": "[encoded data removed]",
      "text/plain": [
       "<Figure size 640x480 with 1 Axes>"
      ]
     },
     "metadata": {},
     "output_type": "display_data"
    }
   ],
   "source": [
    "import os\n",
    "import cv2\n",
    "import numpy as np\n",
    "from tensorflow.keras.models import load_model\n",
    "import matplotlib.pyplot as plt\n",
    "\n",
    "# Load your pre-trained .h5 model\n",
    "model = load_model(\"/kaggle/input/datrgfff/vgg.h5\")  # Update with the correct path\n",
    "\n",
    "# Define the image dimensions that your model expects (e.g., 256x256)\n",
    "image_height, image_width = 256, 256  # Update with the correct dimensions\n",
    "\n",
    "# Define the folder containing images to predict\n",
    "image_folder = \"/kaggle/input/thispersondoesnotexist/thispersondoesnotexist\"  # Update with the correct path\n",
    "\n",
    "# Create a list to store the results\n",
    "results = []\n",
    "\n",
    "# Iterate through the images in the folder\n",
    "for filename in os.listdir(image_folder):\n",
    "    if filename.endswith(\".jpg\") or filename.endswith(\".png\"):\n",
    "        image_path = os.path.join(image_folder, filename)\n",
    "\n",
    "        # Load and preprocess the image\n",
    "        image = cv2.imread(image_path)\n",
    "        image = cv2.resize(image, (image_width, image_height))\n",
    "        image = np.expand_dims(image, axis=0)  # Add a batch dimension\n",
    "        image = image / 255.0  # Normalize the image (if your model requires it)\n",
    "\n",
    "        # Make predictions\n",
    "        prediction = model.predict(image)\n",
    "\n",
    "        # Assuming your model is binary classification, you can change this logic\n",
    "        # Compare the probability to a threshold (e.g., 0.5) to determine the predicted class\n",
    "        predicted_class = 1 if prediction[0, 0] > 0.5 else 0\n",
    "\n",
    "        results.append(predicted_class)\n",
    "\n",
    "# Count the number of \"Fake\" and \"Real\" predictions\n",
    "fake_count = sum(1 for result in results if result == 0)\n",
    "real_count = sum(1 for result in results if result == 1)\n",
    "\n",
    "# Create a bar chart\n",
    "labels = [\"Fake\", \"Real\"]\n",
    "counts = [fake_count, real_count]\n",
    "\n",
    "plt.bar(labels, counts)\n",
    "plt.xlabel(\"Category\")\n",
    "plt.ylabel(\"Number of Images\")\n",
    "plt.title(\"Fake Image Classification Results\")\n",
    "plt.show()\n"
   ]
  },
  {
   "cell_type": "markdown",
   "id": "b06b3114",
   "metadata": {
    "papermill": {
     "duration": 0.02384,
     "end_time": "2023-10-30T17:49:49.908135",
     "exception": false,
     "start_time": "2023-10-30T17:49:49.884295",
     "status": "completed"
    },
    "tags": []
   },
   "source": [
    "***VGG SINGLE IMAGE TESTING***"
   ]
  },
  {
   "cell_type": "code",
   "execution_count": 13,
   "id": "c60d2a76",
   "metadata": {
    "execution": {
     "iopub.execute_input": "2023-10-30T17:49:49.959801Z",
     "iopub.status.busy": "2023-10-30T17:49:49.959463Z",
     "iopub.status.idle": "2023-10-30T17:49:50.792726Z",
     "shell.execute_reply": "2023-10-30T17:49:50.791879Z"
    },
    "papermill": {
     "duration": 0.862304,
     "end_time": "2023-10-30T17:49:50.794879",
     "exception": false,
     "start_time": "2023-10-30T17:49:49.932575",
     "status": "completed"
    },
    "tags": []
   },
   "outputs": [
    {
     "name": "stdout",
     "output_type": "stream",
     "text": [
      "1/1 [==============================] - 0s 204ms/step\n"
     ]
    },
    {
     "data": {
      "image/png": "[encoded data removed]",
      "text/plain": [
       "<Figure size 640x480 with 1 Axes>"
      ]
     },
     "metadata": {},
     "output_type": "display_data"
    }
   ],
   "source": [
    "import cv2\n",
    "import numpy as np\n",
    "from tensorflow.keras.models import load_model\n",
    "import matplotlib.pyplot as plt\n",
    "\n",
    "# Load your pre-trained .h5 model\n",
    "model = load_model(\"/kaggle/input/datrgfff/vgg.h5\")  # Update with the correct path\n",
    "\n",
    "# Define the image dimensions that your model expects (e.g., 256x256)\n",
    "image_height, image_width = 256, 256  # Update with the correct dimensions\n",
    "\n",
    "# Define the path to the single image you want to predict\n",
    "image_path = \"/kaggle/input/real-dataset-for-deepfake-test/deepfake real dataset/female/Copy of DBCL-DBIT-IT-112.JPGface4.jpg\"  # Update with the correct path\n",
    "\n",
    "# Load and preprocess the image\n",
    "image = cv2.imread(image_path)\n",
    "image = cv2.resize(image, (image_width, image_height))\n",
    "image = np.expand_dims(image, axis=0)  # Add a batch dimension\n",
    "image = image / 255.0  # Normalize the image (if your model requires it)\n",
    "\n",
    "# Make predictions\n",
    "prediction = model.predict(image)\n",
    "\n",
    "# Assuming your model is binary classification, you can change this logic\n",
    "# Compare the probability to a threshold (e.g., 0.5) to determine the predicted class\n",
    "predicted_class = 1 if prediction[0, 0] > 0.5 else 0\n",
    "\n",
    "# Create a bar chart to visualize the result\n",
    "labels = [\"Fake\", \"Real\"]\n",
    "counts = [1 - predicted_class, predicted_class]  # 0 for Fake, 1 for Real\n",
    "\n",
    "plt.bar(labels, counts)\n",
    "plt.xlabel(\"Category\")\n",
    "plt.ylabel(\"Prediction Probability\")\n",
    "plt.title(\"Real Female VGG Image Classification Result\")\n",
    "plt.show()\n"
   ]
  },
  {
   "cell_type": "markdown",
   "id": "7a17a6ca",
   "metadata": {
    "papermill": {
     "duration": 0.024425,
     "end_time": "2023-10-30T17:49:50.844287",
     "exception": false,
     "start_time": "2023-10-30T17:49:50.819862",
     "status": "completed"
    },
    "tags": []
   },
   "source": [
    "***EFFICIENT NET B2 FOLDER IMAGE TESTING***"
   ]
  },
  {
   "cell_type": "code",
   "execution_count": 14,
   "id": "b3b77542",
   "metadata": {
    "execution": {
     "iopub.execute_input": "2023-10-30T17:49:50.896423Z",
     "iopub.status.busy": "2023-10-30T17:49:50.895576Z",
     "iopub.status.idle": "2023-10-30T17:50:09.112144Z",
     "shell.execute_reply": "2023-10-30T17:50:09.111195Z"
    },
    "papermill": {
     "duration": 18.245112,
     "end_time": "2023-10-30T17:50:09.114398",
     "exception": false,
     "start_time": "2023-10-30T17:49:50.869286",
     "status": "completed"
    },
    "tags": []
   },
   "outputs": [
    {
     "name": "stdout",
     "output_type": "stream",
     "text": [
      "1/1 [==============================] - 2s 2s/step\n",
      "1/1 [==============================] - 0s 29ms/step\n",
      "1/1 [==============================] - 0s 28ms/step\n",
      "1/1 [==============================] - 0s 28ms/step\n",
      "1/1 [==============================] - 0s 29ms/step\n",
      "1/1 [==============================] - 0s 28ms/step\n",
      "1/1 [==============================] - 0s 28ms/step\n",
      "1/1 [==============================] - 0s 29ms/step\n",
      "1/1 [==============================] - 0s 28ms/step\n",
      "1/1 [==============================] - 0s 28ms/step\n",
      "1/1 [==============================] - 0s 28ms/step\n",
      "1/1 [==============================] - 0s 28ms/step\n",
      "1/1 [==============================] - 0s 27ms/step\n",
      "1/1 [==============================] - 0s 30ms/step\n",
      "1/1 [==============================] - 0s 28ms/step\n",
      "1/1 [==============================] - 0s 28ms/step\n",
      "1/1 [==============================] - 0s 28ms/step\n",
      "1/1 [==============================] - 0s 28ms/step\n",
      "1/1 [==============================] - 0s 27ms/step\n",
      "1/1 [==============================] - 0s 28ms/step\n",
      "1/1 [==============================] - 0s 27ms/step\n",
      "1/1 [==============================] - 0s 28ms/step\n",
      "1/1 [==============================] - 0s 28ms/step\n",
      "1/1 [==============================] - 0s 28ms/step\n",
      "1/1 [==============================] - 0s 27ms/step\n",
      "1/1 [==============================] - 0s 28ms/step\n",
      "1/1 [==============================] - 0s 28ms/step\n",
      "1/1 [==============================] - 0s 28ms/step\n",
      "1/1 [==============================] - 0s 27ms/step\n",
      "1/1 [==============================] - 0s 27ms/step\n",
      "1/1 [==============================] - 0s 28ms/step\n",
      "1/1 [==============================] - 0s 29ms/step\n",
      "1/1 [==============================] - 0s 28ms/step\n",
      "1/1 [==============================] - 0s 28ms/step\n",
      "1/1 [==============================] - 0s 27ms/step\n",
      "1/1 [==============================] - 0s 28ms/step\n",
      "1/1 [==============================] - 0s 27ms/step\n",
      "1/1 [==============================] - 0s 28ms/step\n",
      "1/1 [==============================] - 0s 27ms/step\n",
      "1/1 [==============================] - 0s 28ms/step\n",
      "1/1 [==============================] - 0s 28ms/step\n",
      "1/1 [==============================] - 0s 29ms/step\n",
      "1/1 [==============================] - 0s 28ms/step\n",
      "1/1 [==============================] - 0s 27ms/step\n",
      "1/1 [==============================] - 0s 28ms/step\n",
      "1/1 [==============================] - 0s 27ms/step\n",
      "1/1 [==============================] - 0s 27ms/step\n",
      "1/1 [==============================] - 0s 28ms/step\n",
      "1/1 [==============================] - 0s 28ms/step\n",
      "1/1 [==============================] - 0s 28ms/step\n",
      "1/1 [==============================] - 0s 29ms/step\n",
      "1/1 [==============================] - 0s 27ms/step\n",
      "1/1 [==============================] - 0s 28ms/step\n",
      "1/1 [==============================] - 0s 28ms/step\n",
      "1/1 [==============================] - 0s 28ms/step\n",
      "1/1 [==============================] - 0s 28ms/step\n",
      "1/1 [==============================] - 0s 27ms/step\n",
      "1/1 [==============================] - 0s 28ms/step\n",
      "1/1 [==============================] - 0s 28ms/step\n",
      "1/1 [==============================] - 0s 29ms/step\n",
      "1/1 [==============================] - 0s 27ms/step\n",
      "1/1 [==============================] - 0s 28ms/step\n",
      "1/1 [==============================] - 0s 28ms/step\n",
      "1/1 [==============================] - 0s 28ms/step\n",
      "1/1 [==============================] - 0s 28ms/step\n",
      "1/1 [==============================] - 0s 28ms/step\n",
      "1/1 [==============================] - 0s 28ms/step\n",
      "1/1 [==============================] - 0s 29ms/step\n",
      "1/1 [==============================] - 0s 32ms/step\n",
      "1/1 [==============================] - 0s 28ms/step\n",
      "1/1 [==============================] - 0s 28ms/step\n",
      "1/1 [==============================] - 0s 28ms/step\n",
      "1/1 [==============================] - 0s 28ms/step\n",
      "1/1 [==============================] - 0s 28ms/step\n",
      "1/1 [==============================] - 0s 28ms/step\n",
      "1/1 [==============================] - 0s 28ms/step\n",
      "1/1 [==============================] - 0s 28ms/step\n",
      "1/1 [==============================] - 0s 29ms/step\n",
      "1/1 [==============================] - 0s 28ms/step\n",
      "1/1 [==============================] - 0s 28ms/step\n",
      "1/1 [==============================] - 0s 28ms/step\n",
      "1/1 [==============================] - 0s 28ms/step\n",
      "1/1 [==============================] - 0s 27ms/step\n",
      "1/1 [==============================] - 0s 27ms/step\n",
      "1/1 [==============================] - 0s 28ms/step\n",
      "1/1 [==============================] - 0s 28ms/step\n",
      "1/1 [==============================] - 0s 29ms/step\n",
      "1/1 [==============================] - 0s 28ms/step\n",
      "1/1 [==============================] - 0s 27ms/step\n",
      "1/1 [==============================] - 0s 27ms/step\n",
      "1/1 [==============================] - 0s 28ms/step\n",
      "1/1 [==============================] - 0s 28ms/step\n",
      "1/1 [==============================] - 0s 28ms/step\n",
      "1/1 [==============================] - 0s 27ms/step\n",
      "1/1 [==============================] - 0s 28ms/step\n",
      "1/1 [==============================] - 0s 28ms/step\n",
      "1/1 [==============================] - 0s 28ms/step\n",
      "1/1 [==============================] - 0s 28ms/step\n",
      "1/1 [==============================] - 0s 28ms/step\n",
      "1/1 [==============================] - 0s 28ms/step\n"
     ]
    },
    {
     "data": {
      "image/png": "[encoded data removed]",
      "text/plain": [
       "<Figure size 640x480 with 1 Axes>"
      ]
     },
     "metadata": {},
     "output_type": "display_data"
    }
   ],
   "source": [
    "import os\n",
    "import cv2\n",
    "import numpy as np\n",
    "from tensorflow.keras.models import load_model\n",
    "from tensorflow.keras.applications.efficientnet import preprocess_input\n",
    "import matplotlib.pyplot as plt\n",
    "\n",
    "# Load your pre-trained .h5 model\n",
    "model = load_model(\"/kaggle/input/datrgfff/efficientNet-om.h5\")  # Update with the correct path\n",
    "\n",
    "# Define the image dimensions that your model expects\n",
    "model_image_height, model_image_width = 256, 256  # Model's input dimensions\n",
    "image_folder = \"/kaggle/input/thispersondoesnotexist/thispersondoesnotexist\"  # Update with the correct path\n",
    "\n",
    "# Create a list to store the results\n",
    "results = []\n",
    "\n",
    "# Iterate through the images in the folder\n",
    "for filename in os.listdir(image_folder):\n",
    "    if filename.endswith(\".jpg\") or filename.endswith(\".png\"):\n",
    "        image_path = os.path.join(image_folder, filename)\n",
    "\n",
    "        # Load the image\n",
    "        image = cv2.imread(image_path)\n",
    "\n",
    "        # Resize the image to match the model's input size\n",
    "        image = cv2.resize(image, (model_image_width, model_image_height))\n",
    "\n",
    "        # Preprocess the image according to EfficientNet requirements\n",
    "        image = np.expand_dims(image, axis=0)  # Add a batch dimension\n",
    "        image = preprocess_input(image)\n",
    "\n",
    "        # Make predictions\n",
    "        prediction = model.predict(image)\n",
    "\n",
    "        # Assuming your model is binary classification\n",
    "        # The first class (0) represents \"Fake,\" and the second class (1) represents \"Real\"\n",
    "        predicted_class = \"Fake\" if prediction[0, 0] > 0.5 else \"Real\"\n",
    "\n",
    "        results.append(predicted_class)\n",
    "\n",
    "# Create a bar chart showing the predicted classes\n",
    "unique, counts = np.unique(results, return_counts=True)\n",
    "\n",
    "plt.bar(unique, counts)\n",
    "plt.xlabel(\"Class\")\n",
    "plt.ylabel(\"Count\")\n",
    "plt.title(\"Fake Image Classification Results\")\n",
    "plt.show()\n"
   ]
  },
  {
   "cell_type": "markdown",
   "id": "f742f340",
   "metadata": {
    "papermill": {
     "duration": 0.083009,
     "end_time": "2023-10-30T17:50:09.236892",
     "exception": false,
     "start_time": "2023-10-30T17:50:09.153883",
     "status": "completed"
    },
    "tags": []
   },
   "source": [
    "***EFFICIENT NET B2 SINGLE IMAGE TESTING***"
   ]
  },
  {
   "cell_type": "code",
   "execution_count": 15,
   "id": "d08f24ef",
   "metadata": {
    "execution": {
     "iopub.execute_input": "2023-10-30T17:50:09.317405Z",
     "iopub.status.busy": "2023-10-30T17:50:09.316466Z",
     "iopub.status.idle": "2023-10-30T17:50:14.815135Z",
     "shell.execute_reply": "2023-10-30T17:50:14.814181Z"
    },
    "papermill": {
     "duration": 5.541513,
     "end_time": "2023-10-30T17:50:14.817425",
     "exception": false,
     "start_time": "2023-10-30T17:50:09.275912",
     "status": "completed"
    },
    "tags": []
   },
   "outputs": [
    {
     "name": "stdout",
     "output_type": "stream",
     "text": [
      "1/1 [==============================] - 2s 2s/step\n"
     ]
    },
    {
     "data": {
      "image/png": "[encoded data removed]",
      "text/plain": [
       "<Figure size 640x480 with 1 Axes>"
      ]
     },
     "metadata": {},
     "output_type": "display_data"
    }
   ],
   "source": [
    "import cv2\n",
    "import numpy as np\n",
    "from tensorflow.keras.models import load_model\n",
    "from tensorflow.keras.applications.efficientnet import preprocess_input\n",
    "import matplotlib.pyplot as plt\n",
    "\n",
    "# Load your pre-trained .h5 model\n",
    "model = load_model(\"/kaggle/input/datrgfff/efficientNet-om.h5\")  # Update with the correct path\n",
    "\n",
    "# Define the image dimensions that your model expects\n",
    "model_image_height, model_image_width = 256, 256  # Model's input dimensions\n",
    "\n",
    "# Define the path to the single image you want to predict\n",
    "image_path = \"/kaggle/input/real-dataset-for-deepfake-test/deepfake real dataset/male/Copy of DBCL-DBIT-IT-102.JPGface1.jpg\"  # Update with the correct path\n",
    "\n",
    "# Load the image\n",
    "image = cv2.imread(image_path)\n",
    "\n",
    "# Resize the image to match the model's input size\n",
    "image = cv2.resize(image, (model_image_width, model_image_height))\n",
    "\n",
    "# Preprocess the image according to EfficientNet requirements\n",
    "image = np.expand_dims(image, axis=0)  # Add a batch dimension\n",
    "image = preprocess_input(image)\n",
    "\n",
    "# Make predictions\n",
    "prediction = model.predict(image)\n",
    "\n",
    "# Assuming your model is binary classification\n",
    "# The first class (0) represents \"Fake,\" and the second class (1) represents \"Real\"\n",
    "predicted_class = \"Fake\" if prediction[0, 0] > 0.5 else \"Real\"\n",
    "\n",
    "# Create a bar chart to visualize the result for the single image\n",
    "labels = [\"Fake\", \"Real\"]\n",
    "counts = [1 if predicted_class == \"Fake\" else 0, 1 if predicted_class == \"Real\" else 0]\n",
    "\n",
    "plt.bar(labels, counts)\n",
    "plt.xlabel(\"Class\")\n",
    "plt.ylabel(\"Prediction Probability\")\n",
    "plt.title(\"Fake Image Classification Result\")\n",
    "plt.show()\n"
   ]
  },
  {
   "cell_type": "markdown",
   "id": "5d3fb37f",
   "metadata": {
    "papermill": {
     "duration": 0.039724,
     "end_time": "2023-10-30T17:50:14.898022",
     "exception": false,
     "start_time": "2023-10-30T17:50:14.858298",
     "status": "completed"
    },
    "tags": []
   },
   "source": [
    "***INCEPTION NET SINGLE IMAGE TESTING***"
   ]
  },
  {
   "cell_type": "code",
   "execution_count": 16,
   "id": "3b1b5684",
   "metadata": {
    "execution": {
     "iopub.execute_input": "2023-10-30T17:50:14.979440Z",
     "iopub.status.busy": "2023-10-30T17:50:14.979068Z",
     "iopub.status.idle": "2023-10-30T17:50:31.376538Z",
     "shell.execute_reply": "2023-10-30T17:50:31.375472Z"
    },
    "papermill": {
     "duration": 16.440774,
     "end_time": "2023-10-30T17:50:31.378707",
     "exception": false,
     "start_time": "2023-10-30T17:50:14.937933",
     "status": "completed"
    },
    "tags": []
   },
   "outputs": [
    {
     "name": "stdout",
     "output_type": "stream",
     "text": [
      "1/1 [==============================] - 5s 5s/step\n",
      "Prediction: This image is Real\n"
     ]
    }
   ],
   "source": [
    "from tensorflow import keras\n",
    "from tensorflow.keras.preprocessing.image import load_img, img_to_array\n",
    "import numpy as np\n",
    "\n",
    "# Load the saved InceptionResNetV2 model\n",
    "loaded_model = keras.models.load_model(\"/kaggle/input/datrgfff/inception_model.h5\")\n",
    "\n",
    "# Define a function to make predictions on a single image\n",
    "def predict_image_real_or_fake(image_path, model):\n",
    "    # Load and preprocess the image\n",
    "    img = load_img(image_path, target_size=(256, 256))\n",
    "    img = img_to_array(img)\n",
    "    img = np.expand_dims(img, axis=0)\n",
    "\n",
    "    # Make a prediction using the model\n",
    "    predictions = model.predict(img)\n",
    "\n",
    "    # Check the prediction\n",
    "    if predictions[0][0] > 0.5:\n",
    "        return \"Real\"\n",
    "    else:\n",
    "        return \"Fake\"\n",
    "\n",
    "# Provide the path to your real image\n",
    "image_path = \"/kaggle/input/thispersondoesnotexist/thispersondoesnotexist/person_27.png\"\n",
    "\n",
    "# Make a prediction\n",
    "result = predict_image_real_or_fake(image_path, loaded_model)\n",
    "\n",
    "# Print the result\n",
    "print(\"Prediction: This image is\", result)\n"
   ]
  },
  {
   "cell_type": "markdown",
   "id": "ccc08b86",
   "metadata": {
    "papermill": {
     "duration": 0.039869,
     "end_time": "2023-10-30T17:50:31.460115",
     "exception": false,
     "start_time": "2023-10-30T17:50:31.420246",
     "status": "completed"
    },
    "tags": []
   },
   "source": [
    "***INCEPTION NET FOLDER IMAGE TESTING***"
   ]
  },
  {
   "cell_type": "code",
   "execution_count": 17,
   "id": "627307d0",
   "metadata": {
    "execution": {
     "iopub.execute_input": "2023-10-30T17:50:31.541823Z",
     "iopub.status.busy": "2023-10-30T17:50:31.541123Z",
     "iopub.status.idle": "2023-10-30T17:50:56.819387Z",
     "shell.execute_reply": "2023-10-30T17:50:56.818432Z"
    },
    "papermill": {
     "duration": 25.32144,
     "end_time": "2023-10-30T17:50:56.821437",
     "exception": false,
     "start_time": "2023-10-30T17:50:31.499997",
     "status": "completed"
    },
    "tags": []
   },
   "outputs": [
    {
     "name": "stdout",
     "output_type": "stream",
     "text": [
      "1/1 [==============================] - 4s 4s/step\n",
      "1/1 [==============================] - 0s 48ms/step\n",
      "1/1 [==============================] - 0s 46ms/step\n",
      "1/1 [==============================] - 0s 47ms/step\n",
      "1/1 [==============================] - 0s 47ms/step\n",
      "1/1 [==============================] - 0s 47ms/step\n",
      "1/1 [==============================] - 0s 46ms/step\n",
      "1/1 [==============================] - 0s 46ms/step\n",
      "1/1 [==============================] - 0s 46ms/step\n",
      "1/1 [==============================] - 0s 45ms/step\n",
      "1/1 [==============================] - 0s 45ms/step\n",
      "1/1 [==============================] - 0s 46ms/step\n",
      "1/1 [==============================] - 0s 45ms/step\n",
      "1/1 [==============================] - 0s 46ms/step\n",
      "1/1 [==============================] - 0s 46ms/step\n",
      "1/1 [==============================] - 0s 48ms/step\n",
      "1/1 [==============================] - 0s 46ms/step\n",
      "1/1 [==============================] - 0s 46ms/step\n",
      "1/1 [==============================] - 0s 45ms/step\n",
      "1/1 [==============================] - 0s 60ms/step\n",
      "1/1 [==============================] - 0s 46ms/step\n",
      "1/1 [==============================] - 0s 45ms/step\n",
      "1/1 [==============================] - 0s 50ms/step\n",
      "1/1 [==============================] - 0s 47ms/step\n",
      "1/1 [==============================] - 0s 47ms/step\n",
      "1/1 [==============================] - 0s 48ms/step\n",
      "1/1 [==============================] - 0s 46ms/step\n",
      "1/1 [==============================] - 0s 46ms/step\n",
      "1/1 [==============================] - 0s 46ms/step\n",
      "1/1 [==============================] - 0s 46ms/step\n",
      "1/1 [==============================] - 0s 46ms/step\n",
      "1/1 [==============================] - 0s 46ms/step\n",
      "1/1 [==============================] - 0s 46ms/step\n",
      "1/1 [==============================] - 0s 45ms/step\n",
      "1/1 [==============================] - 0s 46ms/step\n",
      "1/1 [==============================] - 0s 47ms/step\n",
      "1/1 [==============================] - 0s 45ms/step\n",
      "1/1 [==============================] - 0s 46ms/step\n",
      "1/1 [==============================] - 0s 44ms/step\n",
      "1/1 [==============================] - 0s 45ms/step\n",
      "1/1 [==============================] - 0s 48ms/step\n",
      "1/1 [==============================] - 0s 45ms/step\n",
      "1/1 [==============================] - 0s 45ms/step\n",
      "1/1 [==============================] - 0s 46ms/step\n",
      "1/1 [==============================] - 0s 46ms/step\n",
      "1/1 [==============================] - 0s 45ms/step\n",
      "1/1 [==============================] - 0s 45ms/step\n",
      "1/1 [==============================] - 0s 45ms/step\n",
      "1/1 [==============================] - 0s 45ms/step\n",
      "1/1 [==============================] - 0s 47ms/step\n",
      "1/1 [==============================] - 0s 45ms/step\n",
      "1/1 [==============================] - 0s 48ms/step\n",
      "1/1 [==============================] - 0s 49ms/step\n",
      "1/1 [==============================] - 0s 48ms/step\n",
      "1/1 [==============================] - 0s 45ms/step\n",
      "1/1 [==============================] - 0s 45ms/step\n",
      "1/1 [==============================] - 0s 45ms/step\n",
      "1/1 [==============================] - 0s 44ms/step\n",
      "1/1 [==============================] - 0s 46ms/step\n",
      "1/1 [==============================] - 0s 45ms/step\n",
      "1/1 [==============================] - 0s 46ms/step\n",
      "1/1 [==============================] - 0s 47ms/step\n",
      "1/1 [==============================] - 0s 46ms/step\n",
      "1/1 [==============================] - 0s 46ms/step\n",
      "1/1 [==============================] - 0s 47ms/step\n",
      "1/1 [==============================] - 0s 46ms/step\n",
      "1/1 [==============================] - 0s 45ms/step\n",
      "1/1 [==============================] - 0s 47ms/step\n",
      "1/1 [==============================] - 0s 47ms/step\n",
      "1/1 [==============================] - 0s 46ms/step\n",
      "1/1 [==============================] - 0s 46ms/step\n",
      "1/1 [==============================] - 0s 48ms/step\n",
      "1/1 [==============================] - 0s 45ms/step\n",
      "1/1 [==============================] - 0s 45ms/step\n",
      "1/1 [==============================] - 0s 47ms/step\n",
      "1/1 [==============================] - 0s 46ms/step\n",
      "1/1 [==============================] - 0s 46ms/step\n",
      "1/1 [==============================] - 0s 45ms/step\n",
      "1/1 [==============================] - 0s 45ms/step\n",
      "1/1 [==============================] - 0s 44ms/step\n",
      "1/1 [==============================] - 0s 47ms/step\n",
      "1/1 [==============================] - 0s 47ms/step\n",
      "1/1 [==============================] - 0s 45ms/step\n",
      "1/1 [==============================] - 0s 46ms/step\n",
      "1/1 [==============================] - 0s 45ms/step\n",
      "1/1 [==============================] - 0s 45ms/step\n",
      "1/1 [==============================] - 0s 45ms/step\n",
      "1/1 [==============================] - 0s 48ms/step\n",
      "1/1 [==============================] - 0s 45ms/step\n",
      "1/1 [==============================] - 0s 47ms/step\n",
      "1/1 [==============================] - 0s 46ms/step\n",
      "1/1 [==============================] - 0s 60ms/step\n",
      "1/1 [==============================] - 0s 46ms/step\n",
      "1/1 [==============================] - 0s 45ms/step\n",
      "1/1 [==============================] - 0s 46ms/step\n",
      "1/1 [==============================] - 0s 47ms/step\n",
      "1/1 [==============================] - 0s 44ms/step\n",
      "1/1 [==============================] - 0s 46ms/step\n",
      "1/1 [==============================] - 0s 46ms/step\n",
      "1/1 [==============================] - 0s 46ms/step\n"
     ]
    },
    {
     "data": {
      "image/png": "[encoded data removed]",
      "text/plain": [
       "<Figure size 640x480 with 1 Axes>"
      ]
     },
     "metadata": {},
     "output_type": "display_data"
    }
   ],
   "source": [
    "import os\n",
    "import glob\n",
    "import matplotlib.pyplot as plt\n",
    "\n",
    "# Create a list of image file paths\n",
    "image_dir = \"/kaggle/input/thispersondoesnotexist/thispersondoesnotexist\"\n",
    "image_paths = glob.glob(os.path.join(image_dir, \"*.png\"))  # Change the file extension as needed\n",
    "\n",
    "# Load the saved InceptionResNetV2 model\n",
    "loaded_model = keras.models.load_model(\"/kaggle/input/datrgfff/inception_model.h5\")\n",
    "\n",
    "# Initialize counters for real and fake predictions\n",
    "real_count = 0\n",
    "fake_count = 0\n",
    "\n",
    "# Predict each image and update the counters\n",
    "for image_path in image_paths:\n",
    "    result = predict_image_real_or_fake(image_path, loaded_model)\n",
    "    if result == \"Real\":\n",
    "        real_count += 1\n",
    "    elif result == \"Fake\":\n",
    "        fake_count += 1\n",
    "\n",
    "# Create a bar chart to visualize the results\n",
    "labels = ['Real', 'Fake']\n",
    "counts = [real_count, fake_count]\n",
    "\n",
    "plt.bar(labels, counts)\n",
    "plt.xlabel('Prediction')\n",
    "plt.ylabel('Count')\n",
    "plt.title('Real vs. Fake Image Predictions')\n",
    "plt.show()\n"
   ]
  },
  {
   "cell_type": "code",
   "execution_count": null,
   "id": "e4033a5e",
   "metadata": {
    "papermill": {
     "duration": 0.054698,
     "end_time": "2023-10-30T17:50:56.932684",
     "exception": false,
     "start_time": "2023-10-30T17:50:56.877986",
     "status": "completed"
    },
    "tags": []
   },
   "outputs": [],
   "source": []
  }
 ],
 "metadata": {
  "kernelspec": {
   "display_name": "Python 3",
   "language": "python",
   "name": "python3"
  },
  "language_info": {
   "codemirror_mode": {
    "name": "ipython",
    "version": 3
   },
   "file_extension": ".py",
   "mimetype": "text/x-python",
   "name": "python",
   "nbconvert_exporter": "python",
   "pygments_lexer": "ipython3",
   "version": "3.10.12"
  },
  "papermill": {
   "default_parameters": {},
   "duration": 133.520354,
   "end_time": "2023-10-30T17:51:00.252016",
   "environment_variables": {},
   "exception": null,
   "input_path": "__notebook__.ipynb",
   "output_path": "__notebook__.ipynb",
   "parameters": {},
   "start_time": "2023-10-30T17:48:46.731662",
   "version": "2.4.0"
  }
 },
 "nbformat": 4,
 "nbformat_minor": 5
}
